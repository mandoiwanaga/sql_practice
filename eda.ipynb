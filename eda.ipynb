{
 "cells": [
  {
   "cell_type": "markdown",
   "metadata": {},
   "source": [
    "# SQL Practice\n",
    "### Exploratory Data Analysis "
   ]
  },
  {
   "cell_type": "code",
   "execution_count": 2,
   "metadata": {},
   "outputs": [],
   "source": [
    "#configure jupyter notebook to run SQL commands\n",
    "%load_ext sql"
   ]
  },
  {
   "cell_type": "code",
   "execution_count": 3,
   "metadata": {},
   "outputs": [
    {
     "data": {
      "text/plain": [
       "'Connected: @/Users/admin/personal_projs/sql_practice/data/Chinook_Sqlite.sqlite'"
      ]
     },
     "execution_count": 3,
     "metadata": {},
     "output_type": "execute_result"
    }
   ],
   "source": [
    "#connect to database\n",
    "#database is a sqlite database file stored locally, \n",
    "#it is a open source db, refer to README for download location\n",
    "%sql sqlite:////Users/admin/personal_projs/sql_practice/data/Chinook_Sqlite.sqlite"
   ]
  },
  {
   "cell_type": "code",
   "execution_count": 4,
   "metadata": {},
   "outputs": [
    {
     "name": "stdout",
     "output_type": "stream",
     "text": [
      " * sqlite:////Users/admin/personal_projs/sql_practice/data/Chinook_Sqlite.sqlite\n",
      "Done.\n"
     ]
    },
    {
     "data": {
      "text/html": [
       "<table>\n",
       "    <tr>\n",
       "        <th>TrackId</th>\n",
       "        <th>Name</th>\n",
       "        <th>AlbumId</th>\n",
       "        <th>MediaTypeId</th>\n",
       "        <th>GenreId</th>\n",
       "        <th>Composer</th>\n",
       "        <th>Milliseconds</th>\n",
       "        <th>Bytes</th>\n",
       "        <th>UnitPrice</th>\n",
       "    </tr>\n",
       "    <tr>\n",
       "        <td>1</td>\n",
       "        <td>For Those About To Rock (We Salute You)</td>\n",
       "        <td>1</td>\n",
       "        <td>1</td>\n",
       "        <td>1</td>\n",
       "        <td>Angus Young, Malcolm Young, Brian Johnson</td>\n",
       "        <td>343719</td>\n",
       "        <td>11170334</td>\n",
       "        <td>0.99</td>\n",
       "    </tr>\n",
       "    <tr>\n",
       "        <td>2</td>\n",
       "        <td>Balls to the Wall</td>\n",
       "        <td>2</td>\n",
       "        <td>2</td>\n",
       "        <td>1</td>\n",
       "        <td>None</td>\n",
       "        <td>342562</td>\n",
       "        <td>5510424</td>\n",
       "        <td>0.99</td>\n",
       "    </tr>\n",
       "    <tr>\n",
       "        <td>3</td>\n",
       "        <td>Fast As a Shark</td>\n",
       "        <td>3</td>\n",
       "        <td>2</td>\n",
       "        <td>1</td>\n",
       "        <td>F. Baltes, S. Kaufman, U. Dirkscneider &amp; W. Hoffman</td>\n",
       "        <td>230619</td>\n",
       "        <td>3990994</td>\n",
       "        <td>0.99</td>\n",
       "    </tr>\n",
       "    <tr>\n",
       "        <td>4</td>\n",
       "        <td>Restless and Wild</td>\n",
       "        <td>3</td>\n",
       "        <td>2</td>\n",
       "        <td>1</td>\n",
       "        <td>F. Baltes, R.A. Smith-Diesel, S. Kaufman, U. Dirkscneider &amp; W. Hoffman</td>\n",
       "        <td>252051</td>\n",
       "        <td>4331779</td>\n",
       "        <td>0.99</td>\n",
       "    </tr>\n",
       "    <tr>\n",
       "        <td>5</td>\n",
       "        <td>Princess of the Dawn</td>\n",
       "        <td>3</td>\n",
       "        <td>2</td>\n",
       "        <td>1</td>\n",
       "        <td>Deaffy &amp; R.A. Smith-Diesel</td>\n",
       "        <td>375418</td>\n",
       "        <td>6290521</td>\n",
       "        <td>0.99</td>\n",
       "    </tr>\n",
       "</table>"
      ],
      "text/plain": [
       "[(1, 'For Those About To Rock (We Salute You)', 1, 1, 1, 'Angus Young, Malcolm Young, Brian Johnson', 343719, 11170334, 0.99),\n",
       " (2, 'Balls to the Wall', 2, 2, 1, None, 342562, 5510424, 0.99),\n",
       " (3, 'Fast As a Shark', 3, 2, 1, 'F. Baltes, S. Kaufman, U. Dirkscneider & W. Hoffman', 230619, 3990994, 0.99),\n",
       " (4, 'Restless and Wild', 3, 2, 1, 'F. Baltes, R.A. Smith-Diesel, S. Kaufman, U. Dirkscneider & W. Hoffman', 252051, 4331779, 0.99),\n",
       " (5, 'Princess of the Dawn', 3, 2, 1, 'Deaffy & R.A. Smith-Diesel', 375418, 6290521, 0.99)]"
      ]
     },
     "execution_count": 4,
     "metadata": {},
     "output_type": "execute_result"
    }
   ],
   "source": [
    "%sql SELECT * FROM Track LIMIT 5;"
   ]
  },
  {
   "cell_type": "markdown",
   "metadata": {},
   "source": [
    "---"
   ]
  },
  {
   "cell_type": "markdown",
   "metadata": {},
   "source": [
    "Practice Q's from https://www.chegg.com/homework-help/questions-and-answers/question-1-using-chinook-database-write-sql-select-queries-answer-following-questions-need-q29407465\n"
   ]
  },
  {
   "cell_type": "markdown",
   "metadata": {},
   "source": [
    "**1. What is the title of the album with AlbumId 31?**"
   ]
  },
  {
   "cell_type": "code",
   "execution_count": 5,
   "metadata": {},
   "outputs": [
    {
     "name": "stdout",
     "output_type": "stream",
     "text": [
      " * sqlite:////Users/admin/personal_projs/sql_practice/data/Chinook_Sqlite.sqlite\n",
      "Done.\n",
      "Returning data to local variable result\n"
     ]
    }
   ],
   "source": [
    "%%sql result <<\n",
    "SELECT Title\n",
    "FROM Album\n",
    "Where AlbumId = 31;"
   ]
  },
  {
   "cell_type": "code",
   "execution_count": 6,
   "metadata": {},
   "outputs": [
    {
     "data": {
      "text/html": [
       "<table>\n",
       "    <tr>\n",
       "        <th>Title</th>\n",
       "    </tr>\n",
       "    <tr>\n",
       "        <td>Bongo Fury</td>\n",
       "    </tr>\n",
       "</table>"
      ],
      "text/plain": [
       "[('Bongo Fury',)]"
      ]
     },
     "execution_count": 6,
     "metadata": {},
     "output_type": "execute_result"
    }
   ],
   "source": [
    "result"
   ]
  },
  {
   "cell_type": "markdown",
   "metadata": {},
   "source": [
    "**2. List all the albums by artists with the word ‘black’ in their name.**"
   ]
  },
  {
   "cell_type": "code",
   "execution_count": 7,
   "metadata": {},
   "outputs": [
    {
     "name": "stdout",
     "output_type": "stream",
     "text": [
      " * sqlite:////Users/admin/personal_projs/sql_practice/data/Chinook_Sqlite.sqlite\n",
      "Done.\n",
      "Returning data to local variable result\n"
     ]
    }
   ],
   "source": [
    "%%sql result <<\n",
    "SELECT Album.Title\n",
    "FROM Album \n",
    "JOIN Artist\n",
    "ON Album.ArtistId = Artist.ArtistId\n",
    "WHERE Artist.Name LIKE \"%black%\";"
   ]
  },
  {
   "cell_type": "code",
   "execution_count": 8,
   "metadata": {},
   "outputs": [
    {
     "data": {
      "text/html": [
       "<table>\n",
       "    <tr>\n",
       "        <th>Title</th>\n",
       "    </tr>\n",
       "    <tr>\n",
       "        <td>Alcohol Fueled Brewtality Live! [Disc 1]</td>\n",
       "    </tr>\n",
       "    <tr>\n",
       "        <td>Alcohol Fueled Brewtality Live! [Disc 2]</td>\n",
       "    </tr>\n",
       "    <tr>\n",
       "        <td>Black Sabbath</td>\n",
       "    </tr>\n",
       "    <tr>\n",
       "        <td>Black Sabbath Vol. 4 (Remaster)</td>\n",
       "    </tr>\n",
       "    <tr>\n",
       "        <td>Live [Disc 1]</td>\n",
       "    </tr>\n",
       "    <tr>\n",
       "        <td>Live [Disc 2]</td>\n",
       "    </tr>\n",
       "</table>"
      ],
      "text/plain": [
       "[('Alcohol Fueled Brewtality Live! [Disc 1]',),\n",
       " ('Alcohol Fueled Brewtality Live! [Disc 2]',),\n",
       " ('Black Sabbath',),\n",
       " ('Black Sabbath Vol. 4 (Remaster)',),\n",
       " ('Live [Disc 1]',),\n",
       " ('Live [Disc 2]',)]"
      ]
     },
     "execution_count": 8,
     "metadata": {},
     "output_type": "execute_result"
    }
   ],
   "source": [
    "result"
   ]
  },
  {
   "cell_type": "markdown",
   "metadata": {},
   "source": [
    "**3. Find the name and length (in seconds) of all tracks that have both length between 30 and 40 seconds, and genre Latin.**"
   ]
  },
  {
   "cell_type": "code",
   "execution_count": 9,
   "metadata": {},
   "outputs": [
    {
     "name": "stdout",
     "output_type": "stream",
     "text": [
      " * sqlite:////Users/admin/personal_projs/sql_practice/data/Chinook_Sqlite.sqlite\n",
      "Done.\n",
      "Returning data to local variable result\n"
     ]
    }
   ],
   "source": [
    "%%sql result <<\n",
    "SELECT Track.Name, Milliseconds/1000 AS seconds\n",
    "FROM Track\n",
    "JOIN Genre\n",
    "ON Track.GenreId = Genre.GenreId\n",
    "WHERE seconds BETWEEN 30 AND 40\n",
    "AND\n",
    "Genre.Name = \"Latin\";"
   ]
  },
  {
   "cell_type": "code",
   "execution_count": 10,
   "metadata": {},
   "outputs": [
    {
     "data": {
      "text/html": [
       "<table>\n",
       "    <tr>\n",
       "        <th>Name</th>\n",
       "        <th>seconds</th>\n",
       "    </tr>\n",
       "    <tr>\n",
       "        <td>Mateus Enter</td>\n",
       "        <td>33</td>\n",
       "    </tr>\n",
       "    <tr>\n",
       "        <td>Deixa Entrar</td>\n",
       "        <td>33</td>\n",
       "    </tr>\n",
       "</table>"
      ],
      "text/plain": [
       "[('Mateus Enter', 33), ('Deixa Entrar', 33)]"
      ]
     },
     "execution_count": 10,
     "metadata": {},
     "output_type": "execute_result"
    }
   ],
   "source": [
    "result"
   ]
  },
  {
   "cell_type": "markdown",
   "metadata": {},
   "source": [
    "**4. Produce a table that lists each country and the number of customers in that country. (You only need to include countries that have customers.)**"
   ]
  },
  {
   "cell_type": "code",
   "execution_count": 11,
   "metadata": {},
   "outputs": [
    {
     "name": "stdout",
     "output_type": "stream",
     "text": [
      " * sqlite:////Users/admin/personal_projs/sql_practice/data/Chinook_Sqlite.sqlite\n",
      "Done.\n",
      "Returning data to local variable result\n"
     ]
    }
   ],
   "source": [
    "%%sql result <<\n",
    "SELECT COUNT(*) AS total_customers, Country\n",
    "FROM Customer\n",
    "GROUP BY Country\n",
    "HAVING total_customers > 0;"
   ]
  },
  {
   "cell_type": "code",
   "execution_count": 12,
   "metadata": {},
   "outputs": [
    {
     "data": {
      "text/html": [
       "<table>\n",
       "    <tr>\n",
       "        <th>total_customers</th>\n",
       "        <th>Country</th>\n",
       "    </tr>\n",
       "    <tr>\n",
       "        <td>1</td>\n",
       "        <td>Argentina</td>\n",
       "    </tr>\n",
       "    <tr>\n",
       "        <td>1</td>\n",
       "        <td>Australia</td>\n",
       "    </tr>\n",
       "    <tr>\n",
       "        <td>1</td>\n",
       "        <td>Austria</td>\n",
       "    </tr>\n",
       "    <tr>\n",
       "        <td>1</td>\n",
       "        <td>Belgium</td>\n",
       "    </tr>\n",
       "    <tr>\n",
       "        <td>5</td>\n",
       "        <td>Brazil</td>\n",
       "    </tr>\n",
       "    <tr>\n",
       "        <td>8</td>\n",
       "        <td>Canada</td>\n",
       "    </tr>\n",
       "    <tr>\n",
       "        <td>1</td>\n",
       "        <td>Chile</td>\n",
       "    </tr>\n",
       "    <tr>\n",
       "        <td>2</td>\n",
       "        <td>Czech Republic</td>\n",
       "    </tr>\n",
       "    <tr>\n",
       "        <td>1</td>\n",
       "        <td>Denmark</td>\n",
       "    </tr>\n",
       "    <tr>\n",
       "        <td>1</td>\n",
       "        <td>Finland</td>\n",
       "    </tr>\n",
       "    <tr>\n",
       "        <td>5</td>\n",
       "        <td>France</td>\n",
       "    </tr>\n",
       "    <tr>\n",
       "        <td>4</td>\n",
       "        <td>Germany</td>\n",
       "    </tr>\n",
       "    <tr>\n",
       "        <td>1</td>\n",
       "        <td>Hungary</td>\n",
       "    </tr>\n",
       "    <tr>\n",
       "        <td>2</td>\n",
       "        <td>India</td>\n",
       "    </tr>\n",
       "    <tr>\n",
       "        <td>1</td>\n",
       "        <td>Ireland</td>\n",
       "    </tr>\n",
       "    <tr>\n",
       "        <td>1</td>\n",
       "        <td>Italy</td>\n",
       "    </tr>\n",
       "    <tr>\n",
       "        <td>1</td>\n",
       "        <td>Netherlands</td>\n",
       "    </tr>\n",
       "    <tr>\n",
       "        <td>1</td>\n",
       "        <td>Norway</td>\n",
       "    </tr>\n",
       "    <tr>\n",
       "        <td>1</td>\n",
       "        <td>Poland</td>\n",
       "    </tr>\n",
       "    <tr>\n",
       "        <td>2</td>\n",
       "        <td>Portugal</td>\n",
       "    </tr>\n",
       "    <tr>\n",
       "        <td>1</td>\n",
       "        <td>Spain</td>\n",
       "    </tr>\n",
       "    <tr>\n",
       "        <td>1</td>\n",
       "        <td>Sweden</td>\n",
       "    </tr>\n",
       "    <tr>\n",
       "        <td>13</td>\n",
       "        <td>USA</td>\n",
       "    </tr>\n",
       "    <tr>\n",
       "        <td>3</td>\n",
       "        <td>United Kingdom</td>\n",
       "    </tr>\n",
       "</table>"
      ],
      "text/plain": [
       "[(1, 'Argentina'),\n",
       " (1, 'Australia'),\n",
       " (1, 'Austria'),\n",
       " (1, 'Belgium'),\n",
       " (5, 'Brazil'),\n",
       " (8, 'Canada'),\n",
       " (1, 'Chile'),\n",
       " (2, 'Czech Republic'),\n",
       " (1, 'Denmark'),\n",
       " (1, 'Finland'),\n",
       " (5, 'France'),\n",
       " (4, 'Germany'),\n",
       " (1, 'Hungary'),\n",
       " (2, 'India'),\n",
       " (1, 'Ireland'),\n",
       " (1, 'Italy'),\n",
       " (1, 'Netherlands'),\n",
       " (1, 'Norway'),\n",
       " (1, 'Poland'),\n",
       " (2, 'Portugal'),\n",
       " (1, 'Spain'),\n",
       " (1, 'Sweden'),\n",
       " (13, 'USA'),\n",
       " (3, 'United Kingdom')]"
      ]
     },
     "execution_count": 12,
     "metadata": {},
     "output_type": "execute_result"
    }
   ],
   "source": [
    "result"
   ]
  },
  {
   "cell_type": "markdown",
   "metadata": {},
   "source": [
    "**5. Find the top five customers in terms of sales i.e. find the five customers whose total combined invoice amounts are the highest.**"
   ]
  },
  {
   "cell_type": "code",
   "execution_count": 13,
   "metadata": {},
   "outputs": [
    {
     "name": "stdout",
     "output_type": "stream",
     "text": [
      " * sqlite:////Users/admin/personal_projs/sql_practice/data/Chinook_Sqlite.sqlite\n",
      "Done.\n",
      "Returning data to local variable result\n"
     ]
    }
   ],
   "source": [
    "%%sql result <<\n",
    "SELECT FirstName || ' ' || LastName\n",
    "FROM Customer\n",
    "JOIN Invoice\n",
    "ON Customer.CustomerId = Invoice.CustomerId\n",
    "ORDER BY Invoice.Total DESC\n",
    "LIMIT 5;"
   ]
  },
  {
   "cell_type": "code",
   "execution_count": 14,
   "metadata": {},
   "outputs": [
    {
     "data": {
      "text/html": [
       "<table>\n",
       "    <tr>\n",
       "        <th>FirstName || &#x27; &#x27; || LastName</th>\n",
       "    </tr>\n",
       "    <tr>\n",
       "        <td>Helena Holý</td>\n",
       "    </tr>\n",
       "    <tr>\n",
       "        <td>Richard Cunningham</td>\n",
       "    </tr>\n",
       "    <tr>\n",
       "        <td>Ladislav Kovács</td>\n",
       "    </tr>\n",
       "    <tr>\n",
       "        <td>Hugh O&#x27;Reilly</td>\n",
       "    </tr>\n",
       "    <tr>\n",
       "        <td>Astrid Gruber</td>\n",
       "    </tr>\n",
       "</table>"
      ],
      "text/plain": [
       "[('Helena Holý',),\n",
       " ('Richard Cunningham',),\n",
       " ('Ladislav Kovács',),\n",
       " (\"Hugh O'Reilly\",),\n",
       " ('Astrid Gruber',)]"
      ]
     },
     "execution_count": 14,
     "metadata": {},
     "output_type": "execute_result"
    }
   ],
   "source": [
    "result"
   ]
  },
  {
   "cell_type": "markdown",
   "metadata": {},
   "source": [
    "**6. For each genre of music, determine how many customers have bought at least one track from that genre.**"
   ]
  },
  {
   "cell_type": "code",
   "execution_count": 15,
   "metadata": {},
   "outputs": [],
   "source": [
    "#group by genre, customerid\n",
    "#make sure sum of quantity > 1\n",
    "#subquery"
   ]
  },
  {
   "cell_type": "code",
   "execution_count": 21,
   "metadata": {},
   "outputs": [
    {
     "name": "stdout",
     "output_type": "stream",
     "text": [
      " * sqlite:////Users/admin/personal_projs/sql_practice/data/Chinook_Sqlite.sqlite\n",
      "Done.\n",
      "Returning data to local variable result\n"
     ]
    }
   ],
   "source": [
    "%%sql result <<\n",
    "SELECT COUNT(c.CustomerId) AS total_customers, \n",
    "Genre.Name\n",
    "FROM Customer c\n",
    "JOIN Invoice\n",
    "ON c.CustomerId = Invoice.CustomerId\n",
    "JOIN InvoiceLine\n",
    "ON Invoice.InvoiceId = InvoiceLine.InvoiceId\n",
    "JOIN Track\n",
    "ON InvoiceLine.TrackId = Track.TrackId\n",
    "JOIN Genre \n",
    "ON Track.GenreId = Genre.GenreId\n",
    "GROUP BY Genre.Name\n",
    "HAVING SUM(InvoiceLine.Quantity) >= 1;"
   ]
  },
  {
   "cell_type": "code",
   "execution_count": 22,
   "metadata": {},
   "outputs": [
    {
     "data": {
      "text/html": [
       "<table>\n",
       "    <tr>\n",
       "        <th>total_customers</th>\n",
       "        <th>Name</th>\n",
       "    </tr>\n",
       "    <tr>\n",
       "        <td>14</td>\n",
       "        <td>Alternative</td>\n",
       "    </tr>\n",
       "    <tr>\n",
       "        <td>244</td>\n",
       "        <td>Alternative &amp; Punk</td>\n",
       "    </tr>\n",
       "    <tr>\n",
       "        <td>61</td>\n",
       "        <td>Blues</td>\n",
       "    </tr>\n",
       "    <tr>\n",
       "        <td>15</td>\n",
       "        <td>Bossa Nova</td>\n",
       "    </tr>\n",
       "    <tr>\n",
       "        <td>41</td>\n",
       "        <td>Classical</td>\n",
       "    </tr>\n",
       "    <tr>\n",
       "        <td>9</td>\n",
       "        <td>Comedy</td>\n",
       "    </tr>\n",
       "    <tr>\n",
       "        <td>29</td>\n",
       "        <td>Drama</td>\n",
       "    </tr>\n",
       "    <tr>\n",
       "        <td>10</td>\n",
       "        <td>Easy Listening</td>\n",
       "    </tr>\n",
       "    <tr>\n",
       "        <td>12</td>\n",
       "        <td>Electronica/Dance</td>\n",
       "    </tr>\n",
       "    <tr>\n",
       "        <td>12</td>\n",
       "        <td>Heavy Metal</td>\n",
       "    </tr>\n",
       "    <tr>\n",
       "        <td>17</td>\n",
       "        <td>Hip Hop/Rap</td>\n",
       "    </tr>\n",
       "    <tr>\n",
       "        <td>80</td>\n",
       "        <td>Jazz</td>\n",
       "    </tr>\n",
       "    <tr>\n",
       "        <td>386</td>\n",
       "        <td>Latin</td>\n",
       "    </tr>\n",
       "    <tr>\n",
       "        <td>264</td>\n",
       "        <td>Metal</td>\n",
       "    </tr>\n",
       "    <tr>\n",
       "        <td>28</td>\n",
       "        <td>Pop</td>\n",
       "    </tr>\n",
       "    <tr>\n",
       "        <td>41</td>\n",
       "        <td>R&amp;B/Soul</td>\n",
       "    </tr>\n",
       "    <tr>\n",
       "        <td>30</td>\n",
       "        <td>Reggae</td>\n",
       "    </tr>\n",
       "    <tr>\n",
       "        <td>835</td>\n",
       "        <td>Rock</td>\n",
       "    </tr>\n",
       "    <tr>\n",
       "        <td>6</td>\n",
       "        <td>Rock And Roll</td>\n",
       "    </tr>\n",
       "    <tr>\n",
       "        <td>20</td>\n",
       "        <td>Sci Fi &amp; Fantasy</td>\n",
       "    </tr>\n",
       "    <tr>\n",
       "        <td>6</td>\n",
       "        <td>Science Fiction</td>\n",
       "    </tr>\n",
       "    <tr>\n",
       "        <td>20</td>\n",
       "        <td>Soundtrack</td>\n",
       "    </tr>\n",
       "    <tr>\n",
       "        <td>47</td>\n",
       "        <td>TV Shows</td>\n",
       "    </tr>\n",
       "    <tr>\n",
       "        <td>13</td>\n",
       "        <td>World</td>\n",
       "    </tr>\n",
       "</table>"
      ],
      "text/plain": [
       "[(14, 'Alternative'),\n",
       " (244, 'Alternative & Punk'),\n",
       " (61, 'Blues'),\n",
       " (15, 'Bossa Nova'),\n",
       " (41, 'Classical'),\n",
       " (9, 'Comedy'),\n",
       " (29, 'Drama'),\n",
       " (10, 'Easy Listening'),\n",
       " (12, 'Electronica/Dance'),\n",
       " (12, 'Heavy Metal'),\n",
       " (17, 'Hip Hop/Rap'),\n",
       " (80, 'Jazz'),\n",
       " (386, 'Latin'),\n",
       " (264, 'Metal'),\n",
       " (28, 'Pop'),\n",
       " (41, 'R&B/Soul'),\n",
       " (30, 'Reggae'),\n",
       " (835, 'Rock'),\n",
       " (6, 'Rock And Roll'),\n",
       " (20, 'Sci Fi & Fantasy'),\n",
       " (6, 'Science Fiction'),\n",
       " (20, 'Soundtrack'),\n",
       " (47, 'TV Shows'),\n",
       " (13, 'World')]"
      ]
     },
     "execution_count": 22,
     "metadata": {},
     "output_type": "execute_result"
    }
   ],
   "source": [
    "result"
   ]
  },
  {
   "cell_type": "code",
   "execution_count": null,
   "metadata": {},
   "outputs": [],
   "source": []
  }
 ],
 "metadata": {
  "kernelspec": {
   "display_name": "learn-env",
   "language": "python",
   "name": "learn-env"
  },
  "language_info": {
   "codemirror_mode": {
    "name": "ipython",
    "version": 3
   },
   "file_extension": ".py",
   "mimetype": "text/x-python",
   "name": "python",
   "nbconvert_exporter": "python",
   "pygments_lexer": "ipython3",
   "version": "3.6.6"
  }
 },
 "nbformat": 4,
 "nbformat_minor": 4
}
