{
 "cells": [
  {
   "cell_type": "code",
   "execution_count": 2,
   "metadata": {},
   "outputs": [],
   "source": [
    "#configure jupyter notebook to run SQL commands\n",
    "%load_ext sql"
   ]
  },
  {
   "cell_type": "code",
   "execution_count": 3,
   "metadata": {},
   "outputs": [
    {
     "data": {
      "text/plain": [
       "'Connected: @/Users/admin/personal_projs/sql_practice/data/Chinook_Sqlite.sqlite'"
      ]
     },
     "execution_count": 3,
     "metadata": {},
     "output_type": "execute_result"
    }
   ],
   "source": [
    "#connect to database\n",
    "#database is a sqlite database file stored locally, \n",
    "#it is a open source db, refer to README for download location\n",
    "%sql sqlite:////Users/admin/personal_projs/sql_practice/data/Chinook_Sqlite.sqlite"
   ]
  },
  {
   "cell_type": "markdown",
   "metadata": {},
   "source": [
    "**Basic JOIN syntax**"
   ]
  },
  {
   "cell_type": "code",
   "execution_count": 4,
   "metadata": {},
   "outputs": [
    {
     "name": "stdout",
     "output_type": "stream",
     "text": [
      " * sqlite:////Users/admin/personal_projs/sql_practice/data/Chinook_Sqlite.sqlite\n",
      "Done.\n",
      "Returning data to local variable result\n"
     ]
    }
   ],
   "source": [
    "%%sql result <<\n",
    "SELECT t.Name AS track_name,\n",
    "g.Name AS genre_name\n",
    "FROM Track t\n",
    "JOIN Genre g\n",
    "ON t.GenreId = g.GenreId\n",
    "LIMIT 5;"
   ]
  },
  {
   "cell_type": "code",
   "execution_count": 5,
   "metadata": {},
   "outputs": [
    {
     "data": {
      "text/html": [
       "<table>\n",
       "    <tr>\n",
       "        <th>track_name</th>\n",
       "        <th>genre_name</th>\n",
       "    </tr>\n",
       "    <tr>\n",
       "        <td>For Those About To Rock (We Salute You)</td>\n",
       "        <td>Rock</td>\n",
       "    </tr>\n",
       "    <tr>\n",
       "        <td>Balls to the Wall</td>\n",
       "        <td>Rock</td>\n",
       "    </tr>\n",
       "    <tr>\n",
       "        <td>Fast As a Shark</td>\n",
       "        <td>Rock</td>\n",
       "    </tr>\n",
       "    <tr>\n",
       "        <td>Restless and Wild</td>\n",
       "        <td>Rock</td>\n",
       "    </tr>\n",
       "    <tr>\n",
       "        <td>Princess of the Dawn</td>\n",
       "        <td>Rock</td>\n",
       "    </tr>\n",
       "</table>"
      ],
      "text/plain": [
       "[('For Those About To Rock (We Salute You)', 'Rock'),\n",
       " ('Balls to the Wall', 'Rock'),\n",
       " ('Fast As a Shark', 'Rock'),\n",
       " ('Restless and Wild', 'Rock'),\n",
       " ('Princess of the Dawn', 'Rock')]"
      ]
     },
     "execution_count": 5,
     "metadata": {},
     "output_type": "execute_result"
    }
   ],
   "source": [
    "result"
   ]
  },
  {
   "cell_type": "markdown",
   "metadata": {},
   "source": [
    "## INNER JOIN"
   ]
  },
  {
   "cell_type": "code",
   "execution_count": 6,
   "metadata": {},
   "outputs": [
    {
     "name": "stdout",
     "output_type": "stream",
     "text": [
      " * sqlite:////Users/admin/personal_projs/sql_practice/data/Chinook_Sqlite.sqlite\n",
      "Done.\n",
      "Returning data to local variable result\n"
     ]
    }
   ],
   "source": [
    "%%sql result <<\n",
    "SELECT * FROM Album\n",
    "LIMIT 5;"
   ]
  },
  {
   "cell_type": "code",
   "execution_count": 7,
   "metadata": {},
   "outputs": [
    {
     "data": {
      "text/html": [
       "<table>\n",
       "    <tr>\n",
       "        <th>AlbumId</th>\n",
       "        <th>Title</th>\n",
       "        <th>ArtistId</th>\n",
       "    </tr>\n",
       "    <tr>\n",
       "        <td>1</td>\n",
       "        <td>For Those About To Rock We Salute You</td>\n",
       "        <td>1</td>\n",
       "    </tr>\n",
       "    <tr>\n",
       "        <td>2</td>\n",
       "        <td>Balls to the Wall</td>\n",
       "        <td>2</td>\n",
       "    </tr>\n",
       "    <tr>\n",
       "        <td>3</td>\n",
       "        <td>Restless and Wild</td>\n",
       "        <td>2</td>\n",
       "    </tr>\n",
       "    <tr>\n",
       "        <td>4</td>\n",
       "        <td>Let There Be Rock</td>\n",
       "        <td>1</td>\n",
       "    </tr>\n",
       "    <tr>\n",
       "        <td>5</td>\n",
       "        <td>Big Ones</td>\n",
       "        <td>3</td>\n",
       "    </tr>\n",
       "</table>"
      ],
      "text/plain": [
       "[(1, 'For Those About To Rock We Salute You', 1),\n",
       " (2, 'Balls to the Wall', 2),\n",
       " (3, 'Restless and Wild', 2),\n",
       " (4, 'Let There Be Rock', 1),\n",
       " (5, 'Big Ones', 3)]"
      ]
     },
     "execution_count": 7,
     "metadata": {},
     "output_type": "execute_result"
    }
   ],
   "source": [
    "result"
   ]
  },
  {
   "cell_type": "code",
   "execution_count": 8,
   "metadata": {},
   "outputs": [
    {
     "name": "stdout",
     "output_type": "stream",
     "text": [
      " * sqlite:////Users/admin/personal_projs/sql_practice/data/Chinook_Sqlite.sqlite\n",
      "Done.\n",
      "Returning data to local variable result\n"
     ]
    }
   ],
   "source": [
    "%%sql result <<\n",
    "SELECT * FROM Artist\n",
    "LIMIT 5;"
   ]
  },
  {
   "cell_type": "code",
   "execution_count": 9,
   "metadata": {},
   "outputs": [
    {
     "data": {
      "text/html": [
       "<table>\n",
       "    <tr>\n",
       "        <th>ArtistId</th>\n",
       "        <th>Name</th>\n",
       "    </tr>\n",
       "    <tr>\n",
       "        <td>1</td>\n",
       "        <td>AC/DC</td>\n",
       "    </tr>\n",
       "    <tr>\n",
       "        <td>2</td>\n",
       "        <td>Accept</td>\n",
       "    </tr>\n",
       "    <tr>\n",
       "        <td>3</td>\n",
       "        <td>Aerosmith</td>\n",
       "    </tr>\n",
       "    <tr>\n",
       "        <td>4</td>\n",
       "        <td>Alanis Morissette</td>\n",
       "    </tr>\n",
       "    <tr>\n",
       "        <td>5</td>\n",
       "        <td>Alice In Chains</td>\n",
       "    </tr>\n",
       "</table>"
      ],
      "text/plain": [
       "[(1, 'AC/DC'),\n",
       " (2, 'Accept'),\n",
       " (3, 'Aerosmith'),\n",
       " (4, 'Alanis Morissette'),\n",
       " (5, 'Alice In Chains')]"
      ]
     },
     "execution_count": 9,
     "metadata": {},
     "output_type": "execute_result"
    }
   ],
   "source": [
    "result"
   ]
  },
  {
   "cell_type": "code",
   "execution_count": 10,
   "metadata": {},
   "outputs": [
    {
     "name": "stdout",
     "output_type": "stream",
     "text": [
      " * sqlite:////Users/admin/personal_projs/sql_practice/data/Chinook_Sqlite.sqlite\n",
      "Done.\n",
      "Returning data to local variable result\n"
     ]
    }
   ],
   "source": [
    "%%sql result <<\n",
    "SELECT Album.AlbumId, Album.Title,  \n",
    "Artist.ArtistId, Artist.Name\n",
    "FROM Album\n",
    "JOIN Artist\n",
    "USING (ArtistId)\n",
    "LIMIT 5;"
   ]
  },
  {
   "cell_type": "code",
   "execution_count": 11,
   "metadata": {},
   "outputs": [
    {
     "data": {
      "text/html": [
       "<table>\n",
       "    <tr>\n",
       "        <th>AlbumId</th>\n",
       "        <th>Title</th>\n",
       "        <th>ArtistId</th>\n",
       "        <th>Name</th>\n",
       "    </tr>\n",
       "    <tr>\n",
       "        <td>1</td>\n",
       "        <td>For Those About To Rock We Salute You</td>\n",
       "        <td>1</td>\n",
       "        <td>AC/DC</td>\n",
       "    </tr>\n",
       "    <tr>\n",
       "        <td>2</td>\n",
       "        <td>Balls to the Wall</td>\n",
       "        <td>2</td>\n",
       "        <td>Accept</td>\n",
       "    </tr>\n",
       "    <tr>\n",
       "        <td>3</td>\n",
       "        <td>Restless and Wild</td>\n",
       "        <td>2</td>\n",
       "        <td>Accept</td>\n",
       "    </tr>\n",
       "    <tr>\n",
       "        <td>4</td>\n",
       "        <td>Let There Be Rock</td>\n",
       "        <td>1</td>\n",
       "        <td>AC/DC</td>\n",
       "    </tr>\n",
       "    <tr>\n",
       "        <td>5</td>\n",
       "        <td>Big Ones</td>\n",
       "        <td>3</td>\n",
       "        <td>Aerosmith</td>\n",
       "    </tr>\n",
       "</table>"
      ],
      "text/plain": [
       "[(1, 'For Those About To Rock We Salute You', 1, 'AC/DC'),\n",
       " (2, 'Balls to the Wall', 2, 'Accept'),\n",
       " (3, 'Restless and Wild', 2, 'Accept'),\n",
       " (4, 'Let There Be Rock', 1, 'AC/DC'),\n",
       " (5, 'Big Ones', 3, 'Aerosmith')]"
      ]
     },
     "execution_count": 11,
     "metadata": {},
     "output_type": "execute_result"
    }
   ],
   "source": [
    "result"
   ]
  },
  {
   "cell_type": "markdown",
   "metadata": {},
   "source": [
    "## OUTER JOINS"
   ]
  },
  {
   "cell_type": "markdown",
   "metadata": {},
   "source": [
    "**LEFT JOIN**"
   ]
  },
  {
   "cell_type": "code",
   "execution_count": 12,
   "metadata": {},
   "outputs": [
    {
     "name": "stdout",
     "output_type": "stream",
     "text": [
      " * sqlite:////Users/admin/personal_projs/sql_practice/data/Chinook_Sqlite.sqlite\n",
      "Done.\n",
      "Returning data to local variable result\n"
     ]
    }
   ],
   "source": [
    "%%sql result <<\n",
    "SELECT a.name, a.composer, b.InvoiceLineId\n",
    "FROM Track a\n",
    "LEFT JOIN InvoiceLine b\n",
    "ON a.TrackId = b.TrackId\n",
    "LIMIT 8;"
   ]
  },
  {
   "cell_type": "code",
   "execution_count": 13,
   "metadata": {},
   "outputs": [
    {
     "data": {
      "text/html": [
       "<table>\n",
       "    <tr>\n",
       "        <th>Name</th>\n",
       "        <th>Composer</th>\n",
       "        <th>InvoiceLineId</th>\n",
       "    </tr>\n",
       "    <tr>\n",
       "        <td>For Those About To Rock (We Salute You)</td>\n",
       "        <td>Angus Young, Malcolm Young, Brian Johnson</td>\n",
       "        <td>579</td>\n",
       "    </tr>\n",
       "    <tr>\n",
       "        <td>Balls to the Wall</td>\n",
       "        <td>None</td>\n",
       "        <td>1</td>\n",
       "    </tr>\n",
       "    <tr>\n",
       "        <td>Balls to the Wall</td>\n",
       "        <td>None</td>\n",
       "        <td>1154</td>\n",
       "    </tr>\n",
       "    <tr>\n",
       "        <td>Fast As a Shark</td>\n",
       "        <td>F. Baltes, S. Kaufman, U. Dirkscneider &amp; W. Hoffman</td>\n",
       "        <td>1728</td>\n",
       "    </tr>\n",
       "    <tr>\n",
       "        <td>Restless and Wild</td>\n",
       "        <td>F. Baltes, R.A. Smith-Diesel, S. Kaufman, U. Dirkscneider &amp; W. Hoffman</td>\n",
       "        <td>2</td>\n",
       "    </tr>\n",
       "    <tr>\n",
       "        <td>Princess of the Dawn</td>\n",
       "        <td>Deaffy &amp; R.A. Smith-Diesel</td>\n",
       "        <td>580</td>\n",
       "    </tr>\n",
       "    <tr>\n",
       "        <td>Put The Finger On You</td>\n",
       "        <td>Angus Young, Malcolm Young, Brian Johnson</td>\n",
       "        <td>3</td>\n",
       "    </tr>\n",
       "    <tr>\n",
       "        <td>Let&#x27;s Get It Up</td>\n",
       "        <td>Angus Young, Malcolm Young, Brian Johnson</td>\n",
       "        <td>None</td>\n",
       "    </tr>\n",
       "</table>"
      ],
      "text/plain": [
       "[('For Those About To Rock (We Salute You)', 'Angus Young, Malcolm Young, Brian Johnson', 579),\n",
       " ('Balls to the Wall', None, 1),\n",
       " ('Balls to the Wall', None, 1154),\n",
       " ('Fast As a Shark', 'F. Baltes, S. Kaufman, U. Dirkscneider & W. Hoffman', 1728),\n",
       " ('Restless and Wild', 'F. Baltes, R.A. Smith-Diesel, S. Kaufman, U. Dirkscneider & W. Hoffman', 2),\n",
       " ('Princess of the Dawn', 'Deaffy & R.A. Smith-Diesel', 580),\n",
       " ('Put The Finger On You', 'Angus Young, Malcolm Young, Brian Johnson', 3),\n",
       " (\"Let's Get It Up\", 'Angus Young, Malcolm Young, Brian Johnson', None)]"
      ]
     },
     "execution_count": 13,
     "metadata": {},
     "output_type": "execute_result"
    }
   ],
   "source": [
    "result"
   ]
  },
  {
   "cell_type": "markdown",
   "metadata": {},
   "source": [
    "**FULL OUTER JOIN**"
   ]
  },
  {
   "cell_type": "code",
   "execution_count": 22,
   "metadata": {},
   "outputs": [
    {
     "name": "stdout",
     "output_type": "stream",
     "text": [
      " * sqlite:////Users/admin/personal_projs/sql_practice/data/Chinook_Sqlite.sqlite\n",
      "Done.\n",
      "Returning data to local variable result\n"
     ]
    }
   ],
   "source": [
    "%%sql result <<\n",
    "SELECT *\n",
    "FROM Invoice a\n",
    "LEFT JOIN InvoiceLine b\n",
    "ON a.InvoiceId = b.InvoiceId\n",
    "UNION\n",
    "SELECT * \n",
    "FROM InvoiceLine a\n",
    "LEFT JOIN Invoice b\n",
    "ON a.InvoiceId = b.InvoiceId\n",
    "WHERE a.InvoiceId IS NULL\n",
    "LIMIT 10;"
   ]
  },
  {
   "cell_type": "code",
   "execution_count": 23,
   "metadata": {},
   "outputs": [
    {
     "data": {
      "text/html": [
       "<table>\n",
       "    <tr>\n",
       "        <th>InvoiceId</th>\n",
       "        <th>CustomerId</th>\n",
       "        <th>InvoiceDate</th>\n",
       "        <th>BillingAddress</th>\n",
       "        <th>BillingCity</th>\n",
       "        <th>BillingState</th>\n",
       "        <th>BillingCountry</th>\n",
       "        <th>BillingPostalCode</th>\n",
       "        <th>Total</th>\n",
       "        <th>InvoiceLineId</th>\n",
       "        <th>InvoiceId_1</th>\n",
       "        <th>TrackId</th>\n",
       "        <th>UnitPrice</th>\n",
       "        <th>Quantity</th>\n",
       "    </tr>\n",
       "    <tr>\n",
       "        <td>1</td>\n",
       "        <td>2</td>\n",
       "        <td>2009-01-01 00:00:00</td>\n",
       "        <td>Theodor-Heuss-Straße 34</td>\n",
       "        <td>Stuttgart</td>\n",
       "        <td>None</td>\n",
       "        <td>Germany</td>\n",
       "        <td>70174</td>\n",
       "        <td>1.98</td>\n",
       "        <td>1</td>\n",
       "        <td>1</td>\n",
       "        <td>2</td>\n",
       "        <td>0.99</td>\n",
       "        <td>1</td>\n",
       "    </tr>\n",
       "    <tr>\n",
       "        <td>1</td>\n",
       "        <td>2</td>\n",
       "        <td>2009-01-01 00:00:00</td>\n",
       "        <td>Theodor-Heuss-Straße 34</td>\n",
       "        <td>Stuttgart</td>\n",
       "        <td>None</td>\n",
       "        <td>Germany</td>\n",
       "        <td>70174</td>\n",
       "        <td>1.98</td>\n",
       "        <td>2</td>\n",
       "        <td>1</td>\n",
       "        <td>4</td>\n",
       "        <td>0.99</td>\n",
       "        <td>1</td>\n",
       "    </tr>\n",
       "    <tr>\n",
       "        <td>2</td>\n",
       "        <td>4</td>\n",
       "        <td>2009-01-02 00:00:00</td>\n",
       "        <td>Ullevålsveien 14</td>\n",
       "        <td>Oslo</td>\n",
       "        <td>None</td>\n",
       "        <td>Norway</td>\n",
       "        <td>0171</td>\n",
       "        <td>3.96</td>\n",
       "        <td>3</td>\n",
       "        <td>2</td>\n",
       "        <td>6</td>\n",
       "        <td>0.99</td>\n",
       "        <td>1</td>\n",
       "    </tr>\n",
       "    <tr>\n",
       "        <td>2</td>\n",
       "        <td>4</td>\n",
       "        <td>2009-01-02 00:00:00</td>\n",
       "        <td>Ullevålsveien 14</td>\n",
       "        <td>Oslo</td>\n",
       "        <td>None</td>\n",
       "        <td>Norway</td>\n",
       "        <td>0171</td>\n",
       "        <td>3.96</td>\n",
       "        <td>4</td>\n",
       "        <td>2</td>\n",
       "        <td>8</td>\n",
       "        <td>0.99</td>\n",
       "        <td>1</td>\n",
       "    </tr>\n",
       "    <tr>\n",
       "        <td>2</td>\n",
       "        <td>4</td>\n",
       "        <td>2009-01-02 00:00:00</td>\n",
       "        <td>Ullevålsveien 14</td>\n",
       "        <td>Oslo</td>\n",
       "        <td>None</td>\n",
       "        <td>Norway</td>\n",
       "        <td>0171</td>\n",
       "        <td>3.96</td>\n",
       "        <td>5</td>\n",
       "        <td>2</td>\n",
       "        <td>10</td>\n",
       "        <td>0.99</td>\n",
       "        <td>1</td>\n",
       "    </tr>\n",
       "    <tr>\n",
       "        <td>2</td>\n",
       "        <td>4</td>\n",
       "        <td>2009-01-02 00:00:00</td>\n",
       "        <td>Ullevålsveien 14</td>\n",
       "        <td>Oslo</td>\n",
       "        <td>None</td>\n",
       "        <td>Norway</td>\n",
       "        <td>0171</td>\n",
       "        <td>3.96</td>\n",
       "        <td>6</td>\n",
       "        <td>2</td>\n",
       "        <td>12</td>\n",
       "        <td>0.99</td>\n",
       "        <td>1</td>\n",
       "    </tr>\n",
       "    <tr>\n",
       "        <td>3</td>\n",
       "        <td>8</td>\n",
       "        <td>2009-01-03 00:00:00</td>\n",
       "        <td>Grétrystraat 63</td>\n",
       "        <td>Brussels</td>\n",
       "        <td>None</td>\n",
       "        <td>Belgium</td>\n",
       "        <td>1000</td>\n",
       "        <td>5.94</td>\n",
       "        <td>7</td>\n",
       "        <td>3</td>\n",
       "        <td>16</td>\n",
       "        <td>0.99</td>\n",
       "        <td>1</td>\n",
       "    </tr>\n",
       "    <tr>\n",
       "        <td>3</td>\n",
       "        <td>8</td>\n",
       "        <td>2009-01-03 00:00:00</td>\n",
       "        <td>Grétrystraat 63</td>\n",
       "        <td>Brussels</td>\n",
       "        <td>None</td>\n",
       "        <td>Belgium</td>\n",
       "        <td>1000</td>\n",
       "        <td>5.94</td>\n",
       "        <td>8</td>\n",
       "        <td>3</td>\n",
       "        <td>20</td>\n",
       "        <td>0.99</td>\n",
       "        <td>1</td>\n",
       "    </tr>\n",
       "    <tr>\n",
       "        <td>3</td>\n",
       "        <td>8</td>\n",
       "        <td>2009-01-03 00:00:00</td>\n",
       "        <td>Grétrystraat 63</td>\n",
       "        <td>Brussels</td>\n",
       "        <td>None</td>\n",
       "        <td>Belgium</td>\n",
       "        <td>1000</td>\n",
       "        <td>5.94</td>\n",
       "        <td>9</td>\n",
       "        <td>3</td>\n",
       "        <td>24</td>\n",
       "        <td>0.99</td>\n",
       "        <td>1</td>\n",
       "    </tr>\n",
       "    <tr>\n",
       "        <td>3</td>\n",
       "        <td>8</td>\n",
       "        <td>2009-01-03 00:00:00</td>\n",
       "        <td>Grétrystraat 63</td>\n",
       "        <td>Brussels</td>\n",
       "        <td>None</td>\n",
       "        <td>Belgium</td>\n",
       "        <td>1000</td>\n",
       "        <td>5.94</td>\n",
       "        <td>10</td>\n",
       "        <td>3</td>\n",
       "        <td>28</td>\n",
       "        <td>0.99</td>\n",
       "        <td>1</td>\n",
       "    </tr>\n",
       "</table>"
      ],
      "text/plain": [
       "[(1, 2, '2009-01-01 00:00:00', 'Theodor-Heuss-Straße 34', 'Stuttgart', None, 'Germany', '70174', 1.98, 1, 1, 2, 0.99, 1),\n",
       " (1, 2, '2009-01-01 00:00:00', 'Theodor-Heuss-Straße 34', 'Stuttgart', None, 'Germany', '70174', 1.98, 2, 1, 4, 0.99, 1),\n",
       " (2, 4, '2009-01-02 00:00:00', 'Ullevålsveien 14', 'Oslo', None, 'Norway', '0171', 3.96, 3, 2, 6, 0.99, 1),\n",
       " (2, 4, '2009-01-02 00:00:00', 'Ullevålsveien 14', 'Oslo', None, 'Norway', '0171', 3.96, 4, 2, 8, 0.99, 1),\n",
       " (2, 4, '2009-01-02 00:00:00', 'Ullevålsveien 14', 'Oslo', None, 'Norway', '0171', 3.96, 5, 2, 10, 0.99, 1),\n",
       " (2, 4, '2009-01-02 00:00:00', 'Ullevålsveien 14', 'Oslo', None, 'Norway', '0171', 3.96, 6, 2, 12, 0.99, 1),\n",
       " (3, 8, '2009-01-03 00:00:00', 'Grétrystraat 63', 'Brussels', None, 'Belgium', '1000', 5.94, 7, 3, 16, 0.99, 1),\n",
       " (3, 8, '2009-01-03 00:00:00', 'Grétrystraat 63', 'Brussels', None, 'Belgium', '1000', 5.94, 8, 3, 20, 0.99, 1),\n",
       " (3, 8, '2009-01-03 00:00:00', 'Grétrystraat 63', 'Brussels', None, 'Belgium', '1000', 5.94, 9, 3, 24, 0.99, 1),\n",
       " (3, 8, '2009-01-03 00:00:00', 'Grétrystraat 63', 'Brussels', None, 'Belgium', '1000', 5.94, 10, 3, 28, 0.99, 1)]"
      ]
     },
     "execution_count": 23,
     "metadata": {},
     "output_type": "execute_result"
    }
   ],
   "source": [
    "result"
   ]
  },
  {
   "cell_type": "markdown",
   "metadata": {},
   "source": [
    "## Self JOIN"
   ]
  },
  {
   "cell_type": "code",
   "execution_count": 32,
   "metadata": {},
   "outputs": [
    {
     "name": "stdout",
     "output_type": "stream",
     "text": [
      " * sqlite:////Users/admin/personal_projs/sql_practice/data/Chinook_Sqlite.sqlite\n",
      "Done.\n",
      "Returning data to local variable result\n"
     ]
    }
   ],
   "source": [
    "%%sql result <<\n",
    "SELECT a.FirstName || ' ' || a.LastName AS employee,\n",
    "b.FirstName || ' ' || b.LastName AS supervisor\n",
    "FROM Employee a\n",
    "JOIN Employee b\n",
    "ON a.ReportsTo = b.EmployeeId"
   ]
  },
  {
   "cell_type": "code",
   "execution_count": 33,
   "metadata": {},
   "outputs": [
    {
     "data": {
      "text/html": [
       "<table>\n",
       "    <tr>\n",
       "        <th>employee</th>\n",
       "        <th>supervisor</th>\n",
       "    </tr>\n",
       "    <tr>\n",
       "        <td>Nancy Edwards</td>\n",
       "        <td>Andrew Adams</td>\n",
       "    </tr>\n",
       "    <tr>\n",
       "        <td>Jane Peacock</td>\n",
       "        <td>Nancy Edwards</td>\n",
       "    </tr>\n",
       "    <tr>\n",
       "        <td>Margaret Park</td>\n",
       "        <td>Nancy Edwards</td>\n",
       "    </tr>\n",
       "    <tr>\n",
       "        <td>Steve Johnson</td>\n",
       "        <td>Nancy Edwards</td>\n",
       "    </tr>\n",
       "    <tr>\n",
       "        <td>Michael Mitchell</td>\n",
       "        <td>Andrew Adams</td>\n",
       "    </tr>\n",
       "    <tr>\n",
       "        <td>Robert King</td>\n",
       "        <td>Michael Mitchell</td>\n",
       "    </tr>\n",
       "    <tr>\n",
       "        <td>Laura Callahan</td>\n",
       "        <td>Michael Mitchell</td>\n",
       "    </tr>\n",
       "</table>"
      ],
      "text/plain": [
       "[('Nancy Edwards', 'Andrew Adams'),\n",
       " ('Jane Peacock', 'Nancy Edwards'),\n",
       " ('Margaret Park', 'Nancy Edwards'),\n",
       " ('Steve Johnson', 'Nancy Edwards'),\n",
       " ('Michael Mitchell', 'Andrew Adams'),\n",
       " ('Robert King', 'Michael Mitchell'),\n",
       " ('Laura Callahan', 'Michael Mitchell')]"
      ]
     },
     "execution_count": 33,
     "metadata": {},
     "output_type": "execute_result"
    }
   ],
   "source": [
    "result"
   ]
  },
  {
   "cell_type": "code",
   "execution_count": null,
   "metadata": {},
   "outputs": [],
   "source": []
  }
 ],
 "metadata": {
  "kernelspec": {
   "display_name": "learn-env",
   "language": "python",
   "name": "learn-env"
  },
  "language_info": {
   "codemirror_mode": {
    "name": "ipython",
    "version": 3
   },
   "file_extension": ".py",
   "mimetype": "text/x-python",
   "name": "python",
   "nbconvert_exporter": "python",
   "pygments_lexer": "ipython3",
   "version": "3.6.6"
  }
 },
 "nbformat": 4,
 "nbformat_minor": 2
}
