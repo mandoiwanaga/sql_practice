{
 "cells": [
  {
   "cell_type": "code",
   "execution_count": 1,
   "metadata": {},
   "outputs": [],
   "source": [
    "#configure jupyter notebook to run SQL commands\n",
    "%load_ext sql"
   ]
  },
  {
   "cell_type": "code",
   "execution_count": 2,
   "metadata": {},
   "outputs": [
    {
     "data": {
      "text/plain": [
       "'Connected: @/Users/admin/personal_projs/sql_practice/data/Chinook_Sqlite.sqlite'"
      ]
     },
     "execution_count": 2,
     "metadata": {},
     "output_type": "execute_result"
    }
   ],
   "source": [
    "#connect to database\n",
    "#database is a sqlite database file stored locally, \n",
    "#it is a open source db, refer to README for download location\n",
    "%sql sqlite:////Users/admin/personal_projs/sql_practice/data/Chinook_Sqlite.sqlite"
   ]
  },
  {
   "cell_type": "markdown",
   "metadata": {},
   "source": [
    "## Subqueries"
   ]
  },
  {
   "cell_type": "markdown",
   "metadata": {},
   "source": [
    "**Subquery in SELECT**"
   ]
  },
  {
   "cell_type": "code",
   "execution_count": 3,
   "metadata": {},
   "outputs": [
    {
     "name": "stdout",
     "output_type": "stream",
     "text": [
      " * sqlite:////Users/admin/personal_projs/sql_practice/data/Chinook_Sqlite.sqlite\n",
      "Done.\n",
      "Returning data to local variable result\n"
     ]
    }
   ],
   "source": [
    "%%sql result <<\n",
    "SELECT BillingCountry, \n",
    "(SUM(Total)/(SELECT SUM(Total) FROM Invoice))*100 AS Perc_Rev\n",
    "FROM Invoice\n",
    "GROUP BY BillingCountry;"
   ]
  },
  {
   "cell_type": "code",
   "execution_count": 4,
   "metadata": {},
   "outputs": [
    {
     "data": {
      "text/html": [
       "<table>\n",
       "    <tr>\n",
       "        <th>BillingCountry</th>\n",
       "        <th>Perc_Rev</th>\n",
       "    </tr>\n",
       "    <tr>\n",
       "        <td>Argentina</td>\n",
       "        <td>1.6155629992270006</td>\n",
       "    </tr>\n",
       "    <tr>\n",
       "        <td>Australia</td>\n",
       "        <td>1.6155629992270006</td>\n",
       "    </tr>\n",
       "    <tr>\n",
       "        <td>Austria</td>\n",
       "        <td>1.8302842909902912</td>\n",
       "    </tr>\n",
       "    <tr>\n",
       "        <td>Belgium</td>\n",
       "        <td>1.6155629992270004</td>\n",
       "    </tr>\n",
       "    <tr>\n",
       "        <td>Brazil</td>\n",
       "        <td>8.163703512840318</td>\n",
       "    </tr>\n",
       "    <tr>\n",
       "        <td>Canada</td>\n",
       "        <td>13.053336768873978</td>\n",
       "    </tr>\n",
       "    <tr>\n",
       "        <td>Chile</td>\n",
       "        <td>2.0020613244009238</td>\n",
       "    </tr>\n",
       "    <tr>\n",
       "        <td>Czech Republic</td>\n",
       "        <td>3.875289873743874</td>\n",
       "    </tr>\n",
       "    <tr>\n",
       "        <td>Denmark</td>\n",
       "        <td>1.6155629992270006</td>\n",
       "    </tr>\n",
       "    <tr>\n",
       "        <td>Finland</td>\n",
       "        <td>1.7873400326376334</td>\n",
       "    </tr>\n",
       "    <tr>\n",
       "        <td>France</td>\n",
       "        <td>8.378424804603608</td>\n",
       "    </tr>\n",
       "    <tr>\n",
       "        <td>Germany</td>\n",
       "        <td>6.719917547023951</td>\n",
       "    </tr>\n",
       "    <tr>\n",
       "        <td>Hungary</td>\n",
       "        <td>1.959117066048266</td>\n",
       "    </tr>\n",
       "    <tr>\n",
       "        <td>India</td>\n",
       "        <td>3.231984883621054</td>\n",
       "    </tr>\n",
       "    <tr>\n",
       "        <td>Ireland</td>\n",
       "        <td>1.959117066048266</td>\n",
       "    </tr>\n",
       "    <tr>\n",
       "        <td>Italy</td>\n",
       "        <td>1.6155629992270006</td>\n",
       "    </tr>\n",
       "    <tr>\n",
       "        <td>Netherlands</td>\n",
       "        <td>1.744395774284975</td>\n",
       "    </tr>\n",
       "    <tr>\n",
       "        <td>Norway</td>\n",
       "        <td>1.7014515159323167</td>\n",
       "    </tr>\n",
       "    <tr>\n",
       "        <td>Poland</td>\n",
       "        <td>1.6155629992270006</td>\n",
       "    </tr>\n",
       "    <tr>\n",
       "        <td>Portugal</td>\n",
       "        <td>3.3170145151593164</td>\n",
       "    </tr>\n",
       "    <tr>\n",
       "        <td>Spain</td>\n",
       "        <td>1.6155629992270004</td>\n",
       "    </tr>\n",
       "    <tr>\n",
       "        <td>Sweden</td>\n",
       "        <td>1.658507257579659</td>\n",
       "    </tr>\n",
       "    <tr>\n",
       "        <td>USA</td>\n",
       "        <td>22.4624237739414</td>\n",
       "    </tr>\n",
       "    <tr>\n",
       "        <td>United Kingdom</td>\n",
       "        <td>4.846688997681001</td>\n",
       "    </tr>\n",
       "</table>"
      ],
      "text/plain": [
       "[('Argentina', 1.6155629992270006),\n",
       " ('Australia', 1.6155629992270006),\n",
       " ('Austria', 1.8302842909902912),\n",
       " ('Belgium', 1.6155629992270004),\n",
       " ('Brazil', 8.163703512840318),\n",
       " ('Canada', 13.053336768873978),\n",
       " ('Chile', 2.0020613244009238),\n",
       " ('Czech Republic', 3.875289873743874),\n",
       " ('Denmark', 1.6155629992270006),\n",
       " ('Finland', 1.7873400326376334),\n",
       " ('France', 8.378424804603608),\n",
       " ('Germany', 6.719917547023951),\n",
       " ('Hungary', 1.959117066048266),\n",
       " ('India', 3.231984883621054),\n",
       " ('Ireland', 1.959117066048266),\n",
       " ('Italy', 1.6155629992270006),\n",
       " ('Netherlands', 1.744395774284975),\n",
       " ('Norway', 1.7014515159323167),\n",
       " ('Poland', 1.6155629992270006),\n",
       " ('Portugal', 3.3170145151593164),\n",
       " ('Spain', 1.6155629992270004),\n",
       " ('Sweden', 1.658507257579659),\n",
       " ('USA', 22.4624237739414),\n",
       " ('United Kingdom', 4.846688997681001)]"
      ]
     },
     "execution_count": 4,
     "metadata": {},
     "output_type": "execute_result"
    }
   ],
   "source": [
    "result"
   ]
  },
  {
   "cell_type": "markdown",
   "metadata": {},
   "source": [
    "**Subquery in FROM**"
   ]
  },
  {
   "cell_type": "code",
   "execution_count": 6,
   "metadata": {},
   "outputs": [
    {
     "name": "stdout",
     "output_type": "stream",
     "text": [
      " * sqlite:////Users/admin/personal_projs/sql_practice/data/Chinook_Sqlite.sqlite\n",
      "Done.\n",
      "Returning data to local variable result\n"
     ]
    }
   ],
   "source": [
    "%%sql result <<\n",
    "SELECT names_with_the.*\n",
    "FROM (SELECT Name FROM Artist WHERE Name LIKE '%The%') AS names_with_the\n",
    "LIMIT 10;\n"
   ]
  },
  {
   "cell_type": "code",
   "execution_count": 7,
   "metadata": {},
   "outputs": [
    {
     "data": {
      "text/html": [
       "<table>\n",
       "    <tr>\n",
       "        <th>Name</th>\n",
       "    </tr>\n",
       "    <tr>\n",
       "        <td>Santana Feat. Dave Matthews</td>\n",
       "    </tr>\n",
       "    <tr>\n",
       "        <td>Santana Feat. The Project G&amp;B</td>\n",
       "    </tr>\n",
       "    <tr>\n",
       "        <td>The Black Crowes</td>\n",
       "    </tr>\n",
       "    <tr>\n",
       "        <td>The Clash</td>\n",
       "    </tr>\n",
       "    <tr>\n",
       "        <td>The Cult</td>\n",
       "    </tr>\n",
       "    <tr>\n",
       "        <td>The Doors</td>\n",
       "    </tr>\n",
       "    <tr>\n",
       "        <td>The Police</td>\n",
       "    </tr>\n",
       "    <tr>\n",
       "        <td>The Rolling Stones</td>\n",
       "    </tr>\n",
       "    <tr>\n",
       "        <td>The Tea Party</td>\n",
       "    </tr>\n",
       "    <tr>\n",
       "        <td>The Who</td>\n",
       "    </tr>\n",
       "</table>"
      ],
      "text/plain": [
       "[('Santana Feat. Dave Matthews',),\n",
       " ('Santana Feat. The Project G&B',),\n",
       " ('The Black Crowes',),\n",
       " ('The Clash',),\n",
       " ('The Cult',),\n",
       " ('The Doors',),\n",
       " ('The Police',),\n",
       " ('The Rolling Stones',),\n",
       " ('The Tea Party',),\n",
       " ('The Who',)]"
      ]
     },
     "execution_count": 7,
     "metadata": {},
     "output_type": "execute_result"
    }
   ],
   "source": [
    "result"
   ]
  },
  {
   "cell_type": "markdown",
   "metadata": {},
   "source": [
    "**Subquery in WHERE**"
   ]
  },
  {
   "cell_type": "code",
   "execution_count": 8,
   "metadata": {},
   "outputs": [
    {
     "name": "stdout",
     "output_type": "stream",
     "text": [
      " * sqlite:////Users/admin/personal_projs/sql_practice/data/Chinook_Sqlite.sqlite\n",
      "Done.\n",
      "Returning data to local variable result\n"
     ]
    }
   ],
   "source": [
    "%%sql result <<\n",
    "SELECT EmployeeId, FirstName, LastName\n",
    "FROM Employee\n",
    "WHERE EmployeeId IN (SELECT DISTINCT ReportsTo \n",
    "                        FROM Employee);"
   ]
  },
  {
   "cell_type": "code",
   "execution_count": 9,
   "metadata": {},
   "outputs": [
    {
     "data": {
      "text/html": [
       "<table>\n",
       "    <tr>\n",
       "        <th>EmployeeId</th>\n",
       "        <th>FirstName</th>\n",
       "        <th>LastName</th>\n",
       "    </tr>\n",
       "    <tr>\n",
       "        <td>1</td>\n",
       "        <td>Andrew</td>\n",
       "        <td>Adams</td>\n",
       "    </tr>\n",
       "    <tr>\n",
       "        <td>2</td>\n",
       "        <td>Nancy</td>\n",
       "        <td>Edwards</td>\n",
       "    </tr>\n",
       "    <tr>\n",
       "        <td>6</td>\n",
       "        <td>Michael</td>\n",
       "        <td>Mitchell</td>\n",
       "    </tr>\n",
       "</table>"
      ],
      "text/plain": [
       "[(1, 'Andrew', 'Adams'), (2, 'Nancy', 'Edwards'), (6, 'Michael', 'Mitchell')]"
      ]
     },
     "execution_count": 9,
     "metadata": {},
     "output_type": "execute_result"
    }
   ],
   "source": [
    "result"
   ]
  },
  {
   "cell_type": "code",
   "execution_count": 10,
   "metadata": {},
   "outputs": [
    {
     "name": "stdout",
     "output_type": "stream",
     "text": [
      " * sqlite:////Users/admin/personal_projs/sql_practice/data/Chinook_Sqlite.sqlite\n",
      "Done.\n",
      "Returning data to local variable result\n"
     ]
    }
   ],
   "source": [
    "%%sql result <<\n",
    "SELECT EmployeeId, \n",
    "FirstName || ' ' || LastName AS Name\n",
    "FROM Employee\n",
    "WHERE EmployeeId IN (SELECT DISTINCT ReportsTo \n",
    "                        FROM Employee);"
   ]
  },
  {
   "cell_type": "code",
   "execution_count": 11,
   "metadata": {},
   "outputs": [
    {
     "data": {
      "text/html": [
       "<table>\n",
       "    <tr>\n",
       "        <th>EmployeeId</th>\n",
       "        <th>Name</th>\n",
       "    </tr>\n",
       "    <tr>\n",
       "        <td>1</td>\n",
       "        <td>Andrew Adams</td>\n",
       "    </tr>\n",
       "    <tr>\n",
       "        <td>2</td>\n",
       "        <td>Nancy Edwards</td>\n",
       "    </tr>\n",
       "    <tr>\n",
       "        <td>6</td>\n",
       "        <td>Michael Mitchell</td>\n",
       "    </tr>\n",
       "</table>"
      ],
      "text/plain": [
       "[(1, 'Andrew Adams'), (2, 'Nancy Edwards'), (6, 'Michael Mitchell')]"
      ]
     },
     "execution_count": 11,
     "metadata": {},
     "output_type": "execute_result"
    }
   ],
   "source": [
    "result"
   ]
  },
  {
   "cell_type": "code",
   "execution_count": 18,
   "metadata": {},
   "outputs": [
    {
     "name": "stdout",
     "output_type": "stream",
     "text": [
      " * sqlite:////Users/admin/personal_projs/sql_practice/data/Chinook_Sqlite.sqlite\n",
      "Done.\n",
      "Returning data to local variable result\n"
     ]
    }
   ],
   "source": [
    "%%sql result <<\n",
    "SELECT FirstName, LastName, BirthDate\n",
    "FROM Employee\n",
    "WHERE BirthDate IN (SELECT BirthDate FROM Employee ORDER BY BirthDate LIMIT 10)\n",
    "\n",
    "\n"
   ]
  },
  {
   "cell_type": "code",
   "execution_count": 19,
   "metadata": {},
   "outputs": [
    {
     "data": {
      "text/html": [
       "<table>\n",
       "    <tr>\n",
       "        <th>FirstName</th>\n",
       "        <th>LastName</th>\n",
       "        <th>BirthDate</th>\n",
       "    </tr>\n",
       "    <tr>\n",
       "        <td>Andrew</td>\n",
       "        <td>Adams</td>\n",
       "        <td>1962-02-18 00:00:00</td>\n",
       "    </tr>\n",
       "    <tr>\n",
       "        <td>Nancy</td>\n",
       "        <td>Edwards</td>\n",
       "        <td>1958-12-08 00:00:00</td>\n",
       "    </tr>\n",
       "    <tr>\n",
       "        <td>Jane</td>\n",
       "        <td>Peacock</td>\n",
       "        <td>1973-08-29 00:00:00</td>\n",
       "    </tr>\n",
       "    <tr>\n",
       "        <td>Margaret</td>\n",
       "        <td>Park</td>\n",
       "        <td>1947-09-19 00:00:00</td>\n",
       "    </tr>\n",
       "    <tr>\n",
       "        <td>Steve</td>\n",
       "        <td>Johnson</td>\n",
       "        <td>1965-03-03 00:00:00</td>\n",
       "    </tr>\n",
       "    <tr>\n",
       "        <td>Michael</td>\n",
       "        <td>Mitchell</td>\n",
       "        <td>1973-07-01 00:00:00</td>\n",
       "    </tr>\n",
       "    <tr>\n",
       "        <td>Robert</td>\n",
       "        <td>King</td>\n",
       "        <td>1970-05-29 00:00:00</td>\n",
       "    </tr>\n",
       "    <tr>\n",
       "        <td>Laura</td>\n",
       "        <td>Callahan</td>\n",
       "        <td>1968-01-09 00:00:00</td>\n",
       "    </tr>\n",
       "</table>"
      ],
      "text/plain": [
       "[('Andrew', 'Adams', '1962-02-18 00:00:00'),\n",
       " ('Nancy', 'Edwards', '1958-12-08 00:00:00'),\n",
       " ('Jane', 'Peacock', '1973-08-29 00:00:00'),\n",
       " ('Margaret', 'Park', '1947-09-19 00:00:00'),\n",
       " ('Steve', 'Johnson', '1965-03-03 00:00:00'),\n",
       " ('Michael', 'Mitchell', '1973-07-01 00:00:00'),\n",
       " ('Robert', 'King', '1970-05-29 00:00:00'),\n",
       " ('Laura', 'Callahan', '1968-01-09 00:00:00')]"
      ]
     },
     "execution_count": 19,
     "metadata": {},
     "output_type": "execute_result"
    }
   ],
   "source": [
    "result"
   ]
  },
  {
   "cell_type": "code",
   "execution_count": null,
   "metadata": {},
   "outputs": [],
   "source": []
  }
 ],
 "metadata": {
  "kernelspec": {
   "display_name": "learn-env",
   "language": "python",
   "name": "learn-env"
  },
  "language_info": {
   "codemirror_mode": {
    "name": "ipython",
    "version": 3
   },
   "file_extension": ".py",
   "mimetype": "text/x-python",
   "name": "python",
   "nbconvert_exporter": "python",
   "pygments_lexer": "ipython3",
   "version": "3.6.6"
  }
 },
 "nbformat": 4,
 "nbformat_minor": 2
}
